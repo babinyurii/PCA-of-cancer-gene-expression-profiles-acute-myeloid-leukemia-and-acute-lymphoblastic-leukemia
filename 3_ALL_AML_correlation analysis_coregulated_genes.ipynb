{
 "cells": [
  {
   "cell_type": "markdown",
   "metadata": {},
   "source": [
    "This notebook is an example of coregulated genes search. "
   ]
  },
  {
   "cell_type": "code",
   "execution_count": 1,
   "metadata": {},
   "outputs": [],
   "source": [
    "%matplotlib inline\n",
    "import pandas as pd\n",
    "import matplotlib.pyplot as plt"
   ]
  },
  {
   "cell_type": "code",
   "execution_count": 2,
   "metadata": {},
   "outputs": [],
   "source": [
    "genes_1 = pd.read_csv(\"data_set_ALL_AML_train.csv\")\n",
    "genes_2 = pd.read_csv(\"data_set_ALL_AML_independent.csv\")\n",
    "labels = pd.read_csv(\"actual.csv\")"
   ]
  },
  {
   "cell_type": "markdown",
   "metadata": {},
   "source": [
    "Cleaning the data:"
   ]
  },
  {
   "cell_type": "code",
   "execution_count": 3,
   "metadata": {},
   "outputs": [],
   "source": [
    "expr_1 = [col for col in genes_1.columns if \"call\" not in col]\n",
    "expr_2 = [col for col in genes_2.columns if \"call\" not in col]"
   ]
  },
  {
   "cell_type": "code",
   "execution_count": 4,
   "metadata": {},
   "outputs": [],
   "source": [
    "genes_1 = genes_1[expr_1]\n",
    "genes_2 = genes_2[expr_2]"
   ]
  },
  {
   "cell_type": "code",
   "execution_count": 5,
   "metadata": {},
   "outputs": [],
   "source": [
    "genes_1.index = pd.to_numeric(genes_1.index)\n",
    "genes_2.index = pd.to_numeric(genes_2.index)\n",
    "genes_1.sort_index(inplace=True)\n",
    "genes_2.sort_index(inplace=True)"
   ]
  },
  {
   "cell_type": "markdown",
   "metadata": {},
   "source": [
    "'names' will be the container with genes' names to refer when needed"
   ]
  },
  {
   "cell_type": "code",
   "execution_count": 6,
   "metadata": {},
   "outputs": [],
   "source": [
    "names = genes_1[\"Gene Description\"]"
   ]
  },
  {
   "cell_type": "code",
   "execution_count": 7,
   "metadata": {},
   "outputs": [
    {
     "data": {
      "text/plain": [
       "0                     AFFX-BioB-5_at (endogenous control)\n",
       "1                     AFFX-BioB-M_at (endogenous control)\n",
       "2                     AFFX-BioB-3_at (endogenous control)\n",
       "3                     AFFX-BioC-5_at (endogenous control)\n",
       "4                     AFFX-BioC-3_at (endogenous control)\n",
       "5                    AFFX-BioDn-5_at (endogenous control)\n",
       "6                    AFFX-BioDn-3_at (endogenous control)\n",
       "7                     AFFX-CreX-5_at (endogenous control)\n",
       "8                     AFFX-CreX-3_at (endogenous control)\n",
       "9                     AFFX-BioB-5_st (endogenous control)\n",
       "10                    AFFX-BioB-M_st (endogenous control)\n",
       "11                    AFFX-BioB-3_st (endogenous control)\n",
       "12                    AFFX-BioC-5_st (endogenous control)\n",
       "13                    AFFX-BioC-3_st (endogenous control)\n",
       "14                   AFFX-BioDn-5_st (endogenous control)\n",
       "15                   AFFX-BioDn-3_st (endogenous control)\n",
       "16                    AFFX-CreX-5_st (endogenous control)\n",
       "17                    AFFX-CreX-3_st (endogenous control)\n",
       "18                     hum_alu_at (miscellaneous control)\n",
       "19                    AFFX-DapX-5_at (endogenous control)\n",
       "20                    AFFX-DapX-M_at (endogenous control)\n",
       "21                    AFFX-DapX-3_at (endogenous control)\n",
       "22                    AFFX-LysX-5_at (endogenous control)\n",
       "23                    AFFX-LysX-M_at (endogenous control)\n",
       "24                    AFFX-LysX-3_at (endogenous control)\n",
       "25                    AFFX-PheX-5_at (endogenous control)\n",
       "26                    AFFX-PheX-M_at (endogenous control)\n",
       "27                    AFFX-PheX-3_at (endogenous control)\n",
       "28                    AFFX-ThrX-5_at (endogenous control)\n",
       "29                    AFFX-ThrX-M_at (endogenous control)\n",
       "                              ...                        \n",
       "7099              Natural killer cell receptor (KIR) mRNA\n",
       "7100    Major Histocompatibility Complex; Class I; C (...\n",
       "7101    HLA-A MHC class I protein HLA-A (HLA-A28;-B40;...\n",
       "7102    PRB2 locus salivary proline-rich protein mRNA;...\n",
       "7103    HLA CLASS II HISTOCOMPATIBILITY ANTIGEN; DQ(W1...\n",
       "7104    GB DEF = (HLCC85) mRNA for voltage-dependent L...\n",
       "7105    GB DEF = Endogenous retrovirus clone P1.8 poly...\n",
       "7106    Integrase gene extracted from Human endogenous...\n",
       "7107    WUGSC:GS345D13.2 gene (G-protein gamma-1 subun...\n",
       "7108    TIAL1 TIA1 cytotoxic granule-associated RNA-bi...\n",
       "7109     Ras-Specific Guanine Nucleotide-Releasing Factor\n",
       "7110                      TYROSINE-PROTEIN KINASE ITK/TSK\n",
       "7111    (clone p4) 50 kD dystrophin-associated glycopr...\n",
       "7112    Ifp35 gene extracted from Human BRCA1; Rho7 an...\n",
       "7113                                  INHA Inhibin; alpha\n",
       "7114    S100A9 S100 calcium-binding protein A9 (calgra...\n",
       "7115                        PLGL Plasminogen-like protein\n",
       "7116    ID1 Inhibitor of DNA binding 1; dominant negat...\n",
       "7117    ABP1 Amiloride binding protein 1 (amine oxidas...\n",
       "7118                     Transcriptional activator hSNF2b\n",
       "7119            Transcription factor Stat5b (stat5b) mRNA\n",
       "7120                  Breast epithelial antigen BA46 mRNA\n",
       "7121    GB DEF = Calcium/calmodulin-dependent protein ...\n",
       "7122                                TUBULIN ALPHA-4 CHAIN\n",
       "7123    CYP4B1 Cytochrome P450; subfamily IVB; polypep...\n",
       "7124    PTGER3 Prostaglandin E receptor 3 (subtype EP3...\n",
       "7125    HMG2 High-mobility group (nonhistone chromosom...\n",
       "7126        RB1 Retinoblastoma 1 (including osteosarcoma)\n",
       "7127    GB DEF = Glycophorin Sta (type A) exons 3 and ...\n",
       "7128                            GB DEF = mRNA (clone 1A7)\n",
       "Name: Gene Description, Length: 7129, dtype: object"
      ]
     },
     "execution_count": 7,
     "metadata": {},
     "output_type": "execute_result"
    }
   ],
   "source": [
    "names"
   ]
  },
  {
   "cell_type": "code",
   "execution_count": 8,
   "metadata": {},
   "outputs": [],
   "source": [
    "genes_1 = genes_1.drop([\"Gene Description\", \"Gene Accession Number\"], axis=1)\n",
    "genes_2 = genes_2.drop([\"Gene Description\", \"Gene Accession Number\"], axis=1)\n"
   ]
  },
  {
   "cell_type": "code",
   "execution_count": 9,
   "metadata": {},
   "outputs": [],
   "source": [
    "genes_1 = genes_1.T\n",
    "genes_2 = genes_2.T"
   ]
  },
  {
   "cell_type": "code",
   "execution_count": 10,
   "metadata": {},
   "outputs": [],
   "source": [
    "genes = genes_1.append(genes_2, ignore_index=True)\n"
   ]
  },
  {
   "cell_type": "code",
   "execution_count": 11,
   "metadata": {},
   "outputs": [],
   "source": [
    "genes.index = pd.to_numeric(genes.index)\n",
    "genes.sort_index(inplace=True)"
   ]
  },
  {
   "cell_type": "markdown",
   "metadata": {},
   "source": [
    "Labelling type of cancer:"
   ]
  },
  {
   "cell_type": "code",
   "execution_count": 12,
   "metadata": {},
   "outputs": [],
   "source": [
    "genes.index = labels[\"cancer\"]"
   ]
  },
  {
   "cell_type": "markdown",
   "metadata": {},
   "source": [
    "calculating genes' variance across samples:"
   ]
  },
  {
   "cell_type": "code",
   "execution_count": 13,
   "metadata": {},
   "outputs": [],
   "source": [
    "genes_var = genes.var()"
   ]
  },
  {
   "cell_type": "code",
   "execution_count": 14,
   "metadata": {},
   "outputs": [
    {
     "data": {
      "text/plain": [
       "0     9552.781690\n",
       "1     9242.251761\n",
       "2    15054.797926\n",
       "3    12518.032668\n",
       "4    14928.834898\n",
       "dtype: float64"
      ]
     },
     "execution_count": 14,
     "metadata": {},
     "output_type": "execute_result"
    }
   ],
   "source": [
    "genes_var.head()"
   ]
  },
  {
   "cell_type": "code",
   "execution_count": 15,
   "metadata": {},
   "outputs": [
    {
     "data": {
      "text/plain": [
       "7129"
      ]
     },
     "execution_count": 15,
     "metadata": {},
     "output_type": "execute_result"
    }
   ],
   "source": [
    "len(genes_var)"
   ]
  },
  {
   "cell_type": "code",
   "execution_count": 16,
   "metadata": {},
   "outputs": [
    {
     "data": {
      "text/plain": [
       "7124    203626.475743\n",
       "7125     42642.306729\n",
       "7126      2013.741588\n",
       "7127    389274.225156\n",
       "7128      1615.431729\n",
       "dtype: float64"
      ]
     },
     "execution_count": 16,
     "metadata": {},
     "output_type": "execute_result"
    }
   ],
   "source": [
    "genes_var.tail()"
   ]
  },
  {
   "cell_type": "code",
   "execution_count": 17,
   "metadata": {},
   "outputs": [],
   "source": [
    "genes_var.sort_values(inplace=True, ascending=False)"
   ]
  },
  {
   "cell_type": "code",
   "execution_count": 18,
   "metadata": {},
   "outputs": [
    {
     "data": {
      "text/plain": [
       "5709    2.526051e+08\n",
       "5710    1.217362e+08\n",
       "18      1.184315e+08\n",
       "5506    1.098853e+08\n",
       "1867    1.008080e+08\n",
       "dtype: float64"
      ]
     },
     "execution_count": 18,
     "metadata": {},
     "output_type": "execute_result"
    }
   ],
   "source": [
    "genes_var.head()"
   ]
  },
  {
   "cell_type": "code",
   "execution_count": 19,
   "metadata": {},
   "outputs": [
    {
     "data": {
      "text/plain": [
       "5223    943.294992\n",
       "5197    873.886541\n",
       "6392    833.459898\n",
       "96      812.513302\n",
       "1243    713.056142\n",
       "dtype: float64"
      ]
     },
     "execution_count": 19,
     "metadata": {},
     "output_type": "execute_result"
    }
   ],
   "source": [
    "genes_var.tail()"
   ]
  },
  {
   "cell_type": "code",
   "execution_count": 20,
   "metadata": {},
   "outputs": [
    {
     "data": {
      "text/plain": [
       "252605135.82140067"
      ]
     },
     "execution_count": 20,
     "metadata": {},
     "output_type": "execute_result"
    }
   ],
   "source": [
    "genes_var[5709]"
   ]
  },
  {
   "cell_type": "code",
   "execution_count": 21,
   "metadata": {},
   "outputs": [
    {
     "data": {
      "text/plain": [
       "713.05614241001558"
      ]
     },
     "execution_count": 21,
     "metadata": {},
     "output_type": "execute_result"
    }
   ],
   "source": [
    "genes_var[1243]"
   ]
  },
  {
   "cell_type": "code",
   "execution_count": 22,
   "metadata": {},
   "outputs": [
    {
     "data": {
      "text/plain": [
       "7129"
      ]
     },
     "execution_count": 22,
     "metadata": {},
     "output_type": "execute_result"
    }
   ],
   "source": [
    "len(genes_var)"
   ]
  },
  {
   "cell_type": "markdown",
   "metadata": {},
   "source": [
    "now we have least variance in the end of genes_var obj:"
   ]
  },
  {
   "cell_type": "code",
   "execution_count": 23,
   "metadata": {},
   "outputs": [
    {
     "data": {
      "text/plain": [
       "4415    1000.420775\n",
       "5419     986.422535\n",
       "5528     983.358372\n",
       "3678     957.971831\n",
       "5223     943.294992\n",
       "5197     873.886541\n",
       "6392     833.459898\n",
       "96       812.513302\n",
       "1243     713.056142\n",
       "dtype: float64"
      ]
     },
     "execution_count": 23,
     "metadata": {},
     "output_type": "execute_result"
    }
   ],
   "source": [
    "genes_var.iloc[7120:]"
   ]
  },
  {
   "cell_type": "code",
   "execution_count": 24,
   "metadata": {},
   "outputs": [
    {
     "data": {
      "text/plain": [
       "<matplotlib.collections.PathCollection at 0x9bca6d8>"
      ]
     },
     "execution_count": 24,
     "metadata": {},
     "output_type": "execute_result"
    },
    {
     "data": {
      "image/png": "[encoded data removed]",
      "text/plain": [
       "<matplotlib.figure.Figure at 0x9b1e6a0>"
      ]
     },
     "metadata": {},
     "output_type": "display_data"
    }
   ],
   "source": [
    "plt.scatter(range(72), genes[1243])\n",
    "plt.scatter(range(72), genes[96])"
   ]
  },
  {
   "cell_type": "markdown",
   "metadata": {},
   "source": [
    "And we have the greatest variance values at the beginning of the genes_var obj:"
   ]
  },
  {
   "cell_type": "code",
   "execution_count": 25,
   "metadata": {},
   "outputs": [
    {
     "data": {
      "text/plain": [
       "5709    2.526051e+08\n",
       "5710    1.217362e+08\n",
       "18      1.184315e+08\n",
       "5506    1.098853e+08\n",
       "1867    1.008080e+08\n",
       "dtype: float64"
      ]
     },
     "execution_count": 25,
     "metadata": {},
     "output_type": "execute_result"
    }
   ],
   "source": [
    "genes_var.iloc[:5]"
   ]
  },
  {
   "cell_type": "code",
   "execution_count": 26,
   "metadata": {},
   "outputs": [
    {
     "data": {
      "text/plain": [
       "<matplotlib.collections.PathCollection at 0x9f42400>"
      ]
     },
     "execution_count": 26,
     "metadata": {},
     "output_type": "execute_result"
    },
    {
     "data": {
      "image/png": "[encoded data removed]",
      "text/plain": [
       "<matplotlib.figure.Figure at 0x9b1e0f0>"
      ]
     },
     "metadata": {},
     "output_type": "display_data"
    }
   ],
   "source": [
    "plt.scatter(range(72), genes[5709])\n",
    "plt.scatter(range(72), genes[5710])"
   ]
  },
  {
   "cell_type": "code",
   "execution_count": 27,
   "metadata": {},
   "outputs": [],
   "source": [
    "ref_indices = genes_var.index.tolist()"
   ]
  },
  {
   "cell_type": "code",
   "execution_count": 28,
   "metadata": {},
   "outputs": [
    {
     "data": {
      "text/plain": [
       "[5709, 5710, 18, 5506, 1867, 5647, 5228, 1221, 6223, 4016]"
      ]
     },
     "execution_count": 28,
     "metadata": {},
     "output_type": "execute_result"
    }
   ],
   "source": [
    "ref_indices[:10]"
   ]
  },
  {
   "cell_type": "code",
   "execution_count": 29,
   "metadata": {},
   "outputs": [],
   "source": [
    "indices = ref_indices[:]"
   ]
  },
  {
   "cell_type": "code",
   "execution_count": 30,
   "metadata": {},
   "outputs": [
    {
     "data": {
      "text/plain": [
       "7129"
      ]
     },
     "execution_count": 30,
     "metadata": {},
     "output_type": "execute_result"
    }
   ],
   "source": [
    "len(ref_indices)"
   ]
  },
  {
   "cell_type": "markdown",
   "metadata": {},
   "source": [
    "This loop is a kind of \"brute-force attack\" but still it's here just to get some insights what we can do with the data. So, let's take first one hundred most variable genes"
   ]
  },
  {
   "cell_type": "code",
   "execution_count": 31,
   "metadata": {},
   "outputs": [],
   "source": [
    "corr_res = []\n",
    "entry = ()\n",
    "tried_combs = []\n",
    "\n",
    "for el in ref_indices[:100]:\n",
    "    for elem in indices[:100]:\n",
    "        if el == elem:\n",
    "            continue\n",
    "        elif (el, elem) in tried_combs or (elem, el) in tried_combs:\n",
    "            continue\n",
    "        else:\n",
    "            corr = genes[el].corr(genes[elem])\n",
    "            names_vs = str(names[el]) + \" vs \" + str(names[elem])\n",
    "            entry = (names_vs, (el, elem), corr)\n",
    "            corr_res.append(entry)\n",
    "            entry = ()\n",
    "            tried_combs.append((el,elem))\n",
    "\n",
    "            \n",
    "            \n",
    "# may be you can improve this cumbersome loop later"
   ]
  },
  {
   "cell_type": "code",
   "execution_count": 34,
   "metadata": {},
   "outputs": [
    {
     "data": {
      "text/plain": [
       "4950"
      ]
     },
     "execution_count": 34,
     "metadata": {},
     "output_type": "execute_result"
    }
   ],
   "source": [
    "len(corr_res)"
   ]
  },
  {
   "cell_type": "code",
   "execution_count": 35,
   "metadata": {},
   "outputs": [],
   "source": [
    "from operator import itemgetter"
   ]
  },
  {
   "cell_type": "code",
   "execution_count": 36,
   "metadata": {},
   "outputs": [],
   "source": [
    "corr_sorted = sorted(corr_res, reverse=True, key=itemgetter(2))"
   ]
  },
  {
   "cell_type": "markdown",
   "metadata": {},
   "source": [
    "now we have the list with items containing the following information:\n",
    "(genes' names joined with \"vs\", (gene 1 number, gene 2 number), correlation coefficient)\n",
    "We now can use genes' numbers to access columns in 'genes' dataframe and plot the data.\n",
    "The pattern is: corr_sorted [item index] ['tuple of genes' index] [gene index] \n"
   ]
  },
  {
   "cell_type": "markdown",
   "metadata": {},
   "source": [
    "Here are the genes with strong positive correlation:"
   ]
  },
  {
   "cell_type": "code",
   "execution_count": 37,
   "metadata": {},
   "outputs": [
    {
     "name": "stdout",
     "output_type": "stream",
     "text": [
      "0 ---> ('Lysozyme gene (EC 3.2.1.17) vs LYZ Lysozyme', (6805, 6802), 0.98900954061091884)\n",
      "1 ---> ('ELA2 Elastatse 2; neutrophil vs GB DEF = Neutrophil elastase gene; exon 5', (6217, 6218), 0.98811860399621732)\n",
      "2 ---> ('INTERLEUKIN-8 PRECURSOR vs Interleukin 8 (IL8) gene', (6200, 6199), 0.95666328569531067)\n",
      "3 ---> ('hum_alu_at (miscellaneous control) vs EEF1A1 Translation elongation factor 1-alpha-1', (18, 5057), 0.95609355575077581)\n",
      "4 ---> ('hum_alu_at (miscellaneous control) vs EEF1A1 Translation elongation factor 1-alpha-1', (18, 5996), 0.95281639381244909)\n",
      "5 ---> ('GB DEF = Neutrophil elastase gene; exon 5 vs PRTN3 Proteinase 3 (serine proteinase; neutrophil; Wegener granulomatosis autoantigen)', (6218, 4278), 0.95046771487338544)\n",
      "6 ---> ('Globin; Beta vs Alpha-globin 1 gene extracted from Human DNA sequence from cosmid GG1 from a contig from the tip of the short arm of chromosome 16; spanning 2Mb of 16p13.3 Contains alpha and zeta globin genes and ESTs', (5710, 5228), 0.94609918083369104)\n",
      "7 ---> ('GB DEF = Cystic fibrosis antigen mRNA vs CALGRANULIN A', (6223, 1797), 0.94269216310164172)\n",
      "8 ---> ('RPL37A Ribosomal protein L37a vs EEF1A1 Translation elongation factor 1-alpha-1', (1221, 5057), 0.93723456897514379)\n",
      "9 ---> ('ELA2 Elastatse 2; neutrophil vs PRTN3 Proteinase 3 (serine proteinase; neutrophil; Wegener granulomatosis autoantigen)', (6217, 4278), 0.93453466750470604)\n"
     ]
    }
   ],
   "source": [
    "for counter, value in enumerate(corr_sorted[:10]):\n",
    "    print(counter, \"--->\", value)"
   ]
  },
  {
   "cell_type": "markdown",
   "metadata": {},
   "source": [
    "Although one should be very careful when analyzing the correlation, as many associated genes are nearly the same. As here below:"
   ]
  },
  {
   "cell_type": "code",
   "execution_count": 38,
   "metadata": {},
   "outputs": [
    {
     "name": "stdout",
     "output_type": "stream",
     "text": [
      "genes:  Lysozyme gene (EC 3.2.1.17) vs LYZ Lysozyme\n",
      "correlation coefficien:  0.989009540611\n"
     ]
    },
    {
     "data": {
      "image/png": "[encoded data removed]",
      "text/plain": [
       "<matplotlib.figure.Figure at 0xad6d8d0>"
      ]
     },
     "metadata": {},
     "output_type": "display_data"
    }
   ],
   "source": [
    "plt.scatter(genes.loc[\"ALL\", corr_sorted[0][1][0]], genes.loc[\"ALL\", corr_sorted[0][1][1]],\n",
    "           c=\"blue\", label=\"ALL\")\n",
    "plt.scatter(genes.loc[\"AML\", corr_sorted[0][1][0]], genes.loc[\"AML\", corr_sorted[0][1][1]],\n",
    "           c=\"red\", label=\"AML\")\n",
    "\n",
    "print(\"genes: \", corr_sorted[0][0])\n",
    "print(\"correlation coefficien: \", corr_sorted[0][2])"
   ]
  },
  {
   "cell_type": "code",
   "execution_count": 39,
   "metadata": {},
   "outputs": [
    {
     "name": "stdout",
     "output_type": "stream",
     "text": [
      "10 ---> ('EEF1A1 Translation elongation factor 1-alpha-1 vs EEF1A1 Translation elongation factor 1-alpha-1', (5996, 5057), 0.9342353008576556)\n",
      "11 ---> ('EEF1A1 Translation elongation factor 1-alpha-1 vs 60S RIBOSOMAL PROTEIN L18A', (5057, 4651), 0.93207040816571674)\n",
      "12 ---> ('EEF1A1 Translation elongation factor 1-alpha-1 vs 60S RIBOSOMAL PROTEIN L18A', (5996, 4651), 0.92852441784344086)\n",
      "13 ---> ('RPL37A Ribosomal protein L37a vs EEF1A1 Translation elongation factor 1-alpha-1', (1221, 5996), 0.92527061898075758)\n",
      "14 ---> ('hum_alu_at (miscellaneous control) vs RPL37A Ribosomal protein L37a', (18, 1221), 0.92226170568500498)\n",
      "15 ---> ('AFFX-HSAC07/X00351_M_at (endogenous control) vs AFFX-HSAC07/X00351_5_at (endogenous control)', (45, 44), 0.91929880289892763)\n",
      "16 ---> ('HLA-DRB1 Major histocompatibility complex; class II; DR beta 5 vs Major Histocompatibility Complex; Class Ii Beta W52', (7069, 6788), 0.91798326405712927)\n",
      "17 ---> ('AFFX-HSAC07/X00351_3_at (endogenous control) vs ACTB Actin; beta', (46, 5922), 0.91698679166944186)\n",
      "18 ---> ('hum_alu_at (miscellaneous control) vs 60S RIBOSOMAL PROTEIN L18A', (18, 4651), 0.91186556350535519)\n",
      "19 ---> ('RPL37A Ribosomal protein L37a vs 60S RIBOSOMAL PROTEIN L18A', (1221, 4651), 0.91132498819717767)\n",
      "20 ---> ('HLA CLASS II HISTOCOMPATIBILITY ANTIGEN; DR ALPHA CHAIN PRECURSOR vs PROBABLE PROTEIN DISULFIDE ISOMERASE ER-60 PRECURSOR', (4016, 6167), 0.89754705329576789)\n",
      "21 ---> ('GLUL Glutamate-ammonia ligase (glutamine synthase) vs (hybridoma H210) anti-hepatitis A IgG variable region; constant region; complementarity-determining regions mRNA', (6344, 5931), 0.88789717420545544)\n",
      "22 ---> ('AFFX-HUMRGE/M10098_5_at (endogenous control) vs AFFX-HUMRGE/M10098_3_at (endogenous control)', (38, 40), 0.88126877169842466)\n",
      "23 ---> ('HLA-A MHC class I protein HLA-A (HLA-A28;-B40; -Cw3) vs HLA-A MHC class I protein HLA-A (HLA-A28;-B40; -Cw3)', (7029, 7101), 0.87159181490610471)\n",
      "24 ---> ('AFFX-HSAC07/X00351_M_at (endogenous control) vs ACTB Actin; beta', (45, 7095), 0.86988131836433324)\n",
      "25 ---> ('ACTB Actin; beta vs AFFX-HSAC07/X00351_5_at (endogenous control)', (7095, 44), 0.85903386249155589)\n",
      "26 ---> ('AFFX-HUMGAPDH/M33197_M_at (endogenous control) vs AFFX-HUMGAPDH/M33197_3_at (endogenous control)', (42, 43), 0.83069214211379394)\n",
      "27 ---> ('RPL37A Ribosomal protein L37a vs GB DEF = Mitochondrial 16S rRNA gene (partial)', (1221, 5198), 0.82917844779111394)\n",
      "28 ---> ('PROBABLE PROTEIN DISULFIDE ISOMERASE ER-60 PRECURSOR vs HLA-DRB1 Major histocompatibility complex; class II; DR beta 5', (6167, 7069), 0.82305010085376973)\n",
      "29 ---> ('GB DEF = Sickle cell beta-globin mRNA vs Alpha-globin 1 gene extracted from Human DNA sequence from cosmid GG1 from a contig from the tip of the short arm of chromosome 16; spanning 2Mb of 16p13.3 Contains alpha and zeta globin genes and ESTs', (5709, 5228), 0.8216542547045097)\n",
      "30 ---> ('HLA-A MHC class I protein HLA-A (HLA-A28;-B40; -Cw3) vs Major Histocompatibility Complex; Class I; C (Gb:X58536)', (7101, 7100), 0.81330634439505212)\n",
      "31 ---> ('HLA-A MHC class I protein HLA-A (HLA-A28;-B40; -Cw3) vs Major Histocompatibility Complex; Class I; C (Gb:X58536)', (7029, 7100), 0.80662019331884416)\n",
      "32 ---> ('CST3 Cystatin C (amyloid angiopathy and cerebral hemorrhage) vs Lysozyme gene (EC 3.2.1.17)', (1881, 6805), 0.80443628611810958)\n",
      "33 ---> ('EEF1A1 Translation elongation factor 1-alpha-1 vs RPLP1 Ribosomal protein; large; P1', (5057, 1765), 0.80390023150513534)\n",
      "34 ---> ('GB DEF = HLA-B null allele mRNA vs HLA-A MHC class I protein HLA-A (HLA-A28;-B40; -Cw3)', (5647, 7101), 0.80087757475779542)\n",
      "35 ---> ('GB DEF = Sickle cell beta-globin mRNA vs Globin; Beta', (5709, 5710), 0.80039586037320043)\n",
      "36 ---> ('HLA CLASS II HISTOCOMPATIBILITY ANTIGEN; DR ALPHA CHAIN PRECURSOR vs HLA-DRB1 Major histocompatibility complex; class II; DR beta 5', (4016, 7069), 0.79976494510067486)\n",
      "37 ---> ('GLUL Glutamate-ammonia ligase (glutamine synthase) vs Ig alpha 2=immunoglobulin A heavy chain allotype 2 {constant region; germ line} [human; peripheral blood neutrophils; Genomic; 1799 nt]', (6344, 5930), 0.79123011169861879)\n",
      "38 ---> ('EEF1A1 Translation elongation factor 1-alpha-1 vs GB DEF = Mitochondrial 16S rRNA gene (partial)', (5057, 5198), 0.78966946137693494)\n",
      "39 ---> ('RPLP1 Ribosomal protein; large; P1 vs 60S RIBOSOMAL PROTEIN L18A', (1765, 4651), 0.78707211694155332)\n"
     ]
    }
   ],
   "source": [
    "for counter, value in enumerate(corr_sorted[10:40], start=10):\n",
    "    print(counter, \"--->\",  value)"
   ]
  },
  {
   "cell_type": "code",
   "execution_count": 40,
   "metadata": {},
   "outputs": [
    {
     "name": "stdout",
     "output_type": "stream",
     "text": [
      "genes:  EEF1A1 Translation elongation factor 1-alpha-1 vs 60S RIBOSOMAL PROTEIN L18A\n",
      "correlation coefficien:  0.928524417843\n"
     ]
    },
    {
     "data": {
      "image/png": "[encoded data removed]",
      "text/plain": [
       "<matplotlib.figure.Figure at 0xad99390>"
      ]
     },
     "metadata": {},
     "output_type": "display_data"
    }
   ],
   "source": [
    "plt.scatter(genes.loc[\"ALL\", corr_sorted[12][1][0]], genes.loc[\"ALL\", corr_sorted[12][1][1]],\n",
    "           c=\"blue\", label=\"ALL\")\n",
    "plt.scatter(genes.loc[\"AML\", corr_sorted[12][1][0]], genes.loc[\"AML\", corr_sorted[12][1][1]],\n",
    "           c=\"red\", label=\"AML\")\n",
    "\n",
    "print(\"genes: \", corr_sorted[12][0])\n",
    "print(\"correlation coefficien: \", corr_sorted[12][2])"
   ]
  },
  {
   "cell_type": "code",
   "execution_count": 41,
   "metadata": {},
   "outputs": [
    {
     "name": "stdout",
     "output_type": "stream",
     "text": [
      "genes:  HLA-DRB1 Major histocompatibility complex; class II; DR beta 5 vs Major Histocompatibility Complex; Class Ii Beta W52\n",
      "correlation coefficien:  0.917983264057\n"
     ]
    },
    {
     "data": {
      "image/png": "[encoded data removed]",
      "text/plain": [
       "<matplotlib.figure.Figure at 0xae04d68>"
      ]
     },
     "metadata": {},
     "output_type": "display_data"
    }
   ],
   "source": [
    "plt.scatter(genes.loc[\"ALL\", corr_sorted[16][1][0]], genes.loc[\"ALL\", corr_sorted[16][1][1]],\n",
    "           c=\"blue\", label=\"ALL\")\n",
    "plt.scatter(genes.loc[\"AML\", corr_sorted[16][1][0]], genes.loc[\"AML\", corr_sorted[16][1][1]],\n",
    "           c=\"red\", label=\"AML\")\n",
    "\n",
    "print(\"genes: \", corr_sorted[16][0])\n",
    "print(\"correlation coefficien: \", corr_sorted[16][2])"
   ]
  },
  {
   "cell_type": "code",
   "execution_count": 42,
   "metadata": {},
   "outputs": [
    {
     "name": "stdout",
     "output_type": "stream",
     "text": [
      "genes:  PROBABLE PROTEIN DISULFIDE ISOMERASE ER-60 PRECURSOR vs HLA-DRB1 Major histocompatibility complex; class II; DR beta 5\n",
      "correlation coefficien:  0.823050100854\n"
     ]
    },
    {
     "data": {
      "image/png": "[encoded data removed]",
      "text/plain": [
       "<matplotlib.figure.Figure at 0xae99128>"
      ]
     },
     "metadata": {},
     "output_type": "display_data"
    }
   ],
   "source": [
    "plt.scatter(genes.loc[\"ALL\", corr_sorted[28][1][0]], genes.loc[\"ALL\", corr_sorted[28][1][1]],\n",
    "           c=\"blue\", label=\"ALL\")\n",
    "plt.scatter(genes.loc[\"AML\", corr_sorted[28][1][0]], genes.loc[\"AML\", corr_sorted[28][1][1]],\n",
    "           c=\"red\", label=\"AML\")\n",
    "\n",
    "print(\"genes: \", corr_sorted[28][0])\n",
    "print(\"correlation coefficien: \", corr_sorted[28][2])"
   ]
  },
  {
   "cell_type": "markdown",
   "metadata": {},
   "source": [
    "Some genes with negative correlation:"
   ]
  },
  {
   "cell_type": "code",
   "execution_count": 43,
   "metadata": {},
   "outputs": [
    {
     "name": "stdout",
     "output_type": "stream",
     "text": [
      "4940 ---> ('EEF1A1 Translation elongation factor 1-alpha-1 vs GB DEF = Polyadenylate binding protein II', (5996, 6612), -0.58618009887884004)\n",
      "4941 ---> ('EEF1A1 Translation elongation factor 1-alpha-1 vs Ribosomal Protein L5', (5996, 995), -0.59230221163939634)\n",
      "4942 ---> ('Sry-Related Hmg-Box 12 Protein (Gb:X73039) vs GB DEF = Polyadenylate binding protein II', (6776, 6612), -0.59519380332081961)\n",
      "4943 ---> ('Ribosomal Protein L5 vs BETA-2-MICROGLOBULIN PRECURSOR', (995, 6730), -0.59852146904692516)\n",
      "4944 ---> ('GB DEF = Mitochondrial 16S rRNA gene (partial) vs Ribosomal Protein L5', (5198, 995), -0.59863203662719866)\n",
      "4945 ---> ('60S RIBOSOMAL PROTEIN L18A vs Tumor-associated 120 kDa nuclear protein p120; partial cds(carboxyl terminus)', (4651, 5561), -0.60050589100359031)\n",
      "4946 ---> ('BETA-2-MICROGLOBULIN PRECURSOR vs RPL37 Ribosomal protein L37', (6730, 1549), -0.60166253002696546)\n",
      "4947 ---> ('60S RIBOSOMAL PROTEIN L18A vs Ribosomal Protein L5', (4651, 995), -0.6034751562109979)\n",
      "4948 ---> ('hum_alu_at (miscellaneous control) vs Ribosomal Protein L5', (18, 995), -0.60867020597556909)\n",
      "4949 ---> ('EEF1A1 Translation elongation factor 1-alpha-1 vs Ribosomal Protein L5', (5057, 995), -0.6100958464774594)\n"
     ]
    }
   ],
   "source": [
    "for counter, value in enumerate(corr_sorted[4940:], start=4940):\n",
    "    print(counter, \"--->\", value)"
   ]
  },
  {
   "cell_type": "code",
   "execution_count": 44,
   "metadata": {},
   "outputs": [
    {
     "name": "stdout",
     "output_type": "stream",
     "text": [
      "genes:  EEF1A1 Translation elongation factor 1-alpha-1 vs Ribosomal Protein L5\n",
      "correlation coefficien:  -0.610095846477\n"
     ]
    },
    {
     "data": {
      "image/png": "[encoded data removed]",
      "text/plain": [
       "<matplotlib.figure.Figure at 0xaeadf98>"
      ]
     },
     "metadata": {},
     "output_type": "display_data"
    }
   ],
   "source": [
    "plt.scatter(genes.loc[\"ALL\", corr_sorted[4949][1][0]], genes.loc[\"ALL\", corr_sorted[4949][1][1]],\n",
    "           c=\"blue\", label=\"ALL\")\n",
    "plt.scatter(genes.loc[\"AML\", corr_sorted[4949][1][0]], genes.loc[\"AML\", corr_sorted[4949][1][1]],\n",
    "           c=\"red\", label=\"AML\")\n",
    "\n",
    "print(\"genes: \", corr_sorted[4949][0])\n",
    "print(\"correlation coefficien: \", corr_sorted[4949][2])"
   ]
  },
  {
   "cell_type": "code",
   "execution_count": 45,
   "metadata": {},
   "outputs": [
    {
     "name": "stdout",
     "output_type": "stream",
     "text": [
      "genes:  BETA-2-MICROGLOBULIN PRECURSOR vs RPL37 Ribosomal protein L37\n",
      "correlation coefficien:  -0.601662530027\n"
     ]
    },
    {
     "data": {
      "image/png": "[encoded data removed]",
      "text/plain": [
       "<matplotlib.figure.Figure at 0xbefea90>"
      ]
     },
     "metadata": {},
     "output_type": "display_data"
    }
   ],
   "source": [
    "plt.scatter(genes.loc[\"ALL\", corr_sorted[4946][1][0]], genes.loc[\"ALL\", corr_sorted[4946][1][1]],\n",
    "           c=\"blue\", label=\"ALL\")\n",
    "plt.scatter(genes.loc[\"AML\", corr_sorted[4946][1][0]], genes.loc[\"AML\", corr_sorted[4946][1][1]],\n",
    "           c=\"red\", label=\"AML\")\n",
    "\n",
    "print(\"genes: \", corr_sorted[4946][0])\n",
    "print(\"correlation coefficien: \", corr_sorted[4946][2])"
   ]
  },
  {
   "cell_type": "markdown",
   "metadata": {},
   "source": [
    "I believe, using this rather awkward pattern one may try to find out whether some genes are up or down coregulated. But the search for correlation is dependent on the aim of the research and its context.\n",
    "We may want:\n",
    "1. genes coregulated with some specific gene under study\n",
    "2. or we may be curious about coregulation of some specific gene pair\n",
    "3. coregulation of the immune system genes \n",
    "4. genes associated with ribosomes and transcription factors\n",
    "5. or whatever...\n"
   ]
  }
 ],
 "metadata": {
  "kernelspec": {
   "display_name": "Python 3",
   "language": "python",
   "name": "python3"
  },
  "language_info": {
   "codemirror_mode": {
    "name": "ipython",
    "version": 3
   },
   "file_extension": ".py",
   "mimetype": "text/x-python",
   "name": "python",
   "nbconvert_exporter": "python",
   "pygments_lexer": "ipython3",
   "version": "3.6.3"
  }
 },
 "nbformat": 4,
 "nbformat_minor": 2
}
